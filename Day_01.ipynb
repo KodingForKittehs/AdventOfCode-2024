{
  "cells": [
    {
      "cell_type": "markdown",
      "metadata": {
        "id": "w8ceaZ_mk7lS"
      },
      "source": [
        "# [--- Day 1:  ---](https://adventofcode.com/2024/day/1)\n",
        "\n",
        "* Themes:"
      ]
    },
    {
      "cell_type": "code",
      "execution_count": null,
      "metadata": {
        "id": "pG0fZk4xjQL8"
      },
      "outputs": [],
      "source": [
        "\n"
      ]
    },
    {
      "cell_type": "markdown",
      "metadata": {
        "id": "-PObzBLWyWo6"
      },
      "source": [
        "## Part 1\n"
      ]
    },
    {
      "cell_type": "code",
      "execution_count": null,
      "metadata": {
        "id": "qAhUAU4wxjcF"
      },
      "outputs": [],
      "source": []
    },
    {
      "cell_type": "markdown",
      "metadata": {
        "id": "4yF8prx10wii"
      },
      "source": [
        "## Part 2\n",
        "\n"
      ]
    },
    {
      "cell_type": "code",
      "execution_count": null,
      "metadata": {
        "id": "BU3fsIlP10TA"
      },
      "outputs": [],
      "source": []
    },
    {
      "cell_type": "markdown",
      "metadata": {
        "id": "bork7PbMy718"
      },
      "source": [
        "Questions:\n",
        "-\n",
        "\n"
      ]
    },
    {
      "cell_type": "markdown",
      "metadata": {
        "id": "msgcrUJ19tYa"
      },
      "source": [
        "Things Learned:\n",
        "-"
      ]
    }
  ],
  "metadata": {
    "colab": {
      "provenance": [],
      "toc_visible": true
    },
    "kernelspec": {
      "display_name": "Python 3",
      "name": "python3"
    },
    "language_info": {
      "name": "python"
    }
  },
  "nbformat": 4,
  "nbformat_minor": 0
}